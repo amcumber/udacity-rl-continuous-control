{
 "cells": [
  {
   "cell_type": "markdown",
   "metadata": {},
   "source": [
    "# Continuous Control\n",
    "\n",
    "---\n",
    "\n",
    "In this notebook, you will learn how to use the Unity ML-Agents environment for the second project of the [Deep Reinforcement Learning Nanodegree](https://www.udacity.com/course/deep-reinforcement-learning-nanodegree--nd893) program."
   ]
  },
  {
   "cell_type": "markdown",
   "metadata": {
    "toc-hr-collapsed": true
   },
   "source": [
    "## 1. Start the Environment\n",
    "\n",
    "We begin by importing the necessary packages.  If the code cell below returns an error, please revisit the project instructions to double-check that you have installed [Unity ML-Agents](https://github.com/Unity-Technologies/ml-agents/blob/master/docs/Installation.md) and [NumPy](http://www.numpy.org/)."
   ]
  },
  {
   "cell_type": "code",
   "execution_count": 1,
   "metadata": {},
   "outputs": [
    {
     "name": "stdout",
     "output_type": "stream",
     "text": [
      "Processing /home/workspace/python\n",
      "Collecting tensorflow==1.7.1 (from unityagents==0.4.0)\n",
      "\u001b[?25l  Downloading https://files.pythonhosted.org/packages/66/83/35c3f53129dfc80d65ebbe07ef0575263c3c05cc37f8c713674dcedcea6f/tensorflow-1.7.1-cp36-cp36m-manylinux1_x86_64.whl (48.1MB)\n",
      "\u001b[K    100% |████████████████████████████████| 48.1MB 966kB/s eta 0:00:01\n",
      "\u001b[?25hRequirement already satisfied: Pillow>=4.2.1 in /opt/conda/lib/python3.6/site-packages (from unityagents==0.4.0) (5.2.0)\n",
      "Requirement already satisfied: matplotlib in /opt/conda/lib/python3.6/site-packages (from unityagents==0.4.0) (2.1.0)\n",
      "Requirement already satisfied: numpy>=1.11.0 in /opt/conda/lib/python3.6/site-packages (from unityagents==0.4.0) (1.12.1)\n",
      "Collecting jupyter (from unityagents==0.4.0)\n",
      "  Downloading https://files.pythonhosted.org/packages/83/df/0f5dd132200728a86190397e1ea87cd76244e42d39ec5e88efd25b2abd7e/jupyter-1.0.0-py2.py3-none-any.whl\n",
      "Requirement already satisfied: pytest>=3.2.2 in /opt/conda/lib/python3.6/site-packages (from unityagents==0.4.0) (4.5.0)\n",
      "Collecting docopt (from unityagents==0.4.0)\n",
      "  Downloading https://files.pythonhosted.org/packages/a2/55/8f8cab2afd404cf578136ef2cc5dfb50baa1761b68c9da1fb1e4eed343c9/docopt-0.6.2.tar.gz\n",
      "Requirement already satisfied: pyyaml in /opt/conda/lib/python3.6/site-packages (from unityagents==0.4.0) (3.12)\n",
      "Collecting protobuf==3.5.2 (from unityagents==0.4.0)\n",
      "\u001b[?25l  Downloading https://files.pythonhosted.org/packages/9b/0d/6e9cf54be86c742a375a0ca0addadb582c890939b1b6d3339570e51091bd/protobuf-3.5.2-cp36-cp36m-manylinux1_x86_64.whl (6.4MB)\n",
      "\u001b[K    100% |████████████████████████████████| 6.4MB 5.4MB/s eta 0:00:01\n",
      "\u001b[?25hCollecting grpcio==1.11.0 (from unityagents==0.4.0)\n",
      "\u001b[?25l  Downloading https://files.pythonhosted.org/packages/c8/b8/00e703183b7ae5e02f161dafacdfa8edbd7234cb7434aef00f126a3a511e/grpcio-1.11.0-cp36-cp36m-manylinux1_x86_64.whl (8.8MB)\n",
      "\u001b[K    100% |████████████████████████████████| 8.8MB 5.2MB/s eta 0:00:01\n",
      "\u001b[?25hRequirement already satisfied: torch==0.4.0 in /opt/conda/lib/python3.6/site-packages (from unityagents==0.4.0) (0.4.0)\n",
      "Requirement already satisfied: pandas in /opt/conda/lib/python3.6/site-packages (from unityagents==0.4.0) (0.23.3)\n",
      "Requirement already satisfied: scipy in /opt/conda/lib/python3.6/site-packages (from unityagents==0.4.0) (1.2.1)\n",
      "Requirement already satisfied: ipykernel in /opt/conda/lib/python3.6/site-packages (from unityagents==0.4.0) (4.9.0)\n",
      "Requirement already satisfied: wheel>=0.26 in /opt/conda/lib/python3.6/site-packages (from tensorflow==1.7.1->unityagents==0.4.0) (0.30.0)\n",
      "Collecting gast>=0.2.0 (from tensorflow==1.7.1->unityagents==0.4.0)\n",
      "  Downloading https://files.pythonhosted.org/packages/ad/b0/a6c8bc1e77409b63755bb0788ac4d497d31b72082de5945c0122259c533e/gast-0.5.2-py3-none-any.whl\n",
      "Collecting astor>=0.6.0 (from tensorflow==1.7.1->unityagents==0.4.0)\n",
      "  Downloading https://files.pythonhosted.org/packages/c3/88/97eef84f48fa04fbd6750e62dcceafba6c63c81b7ac1420856c8dcc0a3f9/astor-0.8.1-py2.py3-none-any.whl\n",
      "Collecting absl-py>=0.1.6 (from tensorflow==1.7.1->unityagents==0.4.0)\n",
      "\u001b[?25l  Downloading https://files.pythonhosted.org/packages/23/47/835652c7e19530973c73c65e652fc53bd05725d5a7cf9bb8706777869c1e/absl_py-0.13.0-py3-none-any.whl (132kB)\n",
      "\u001b[K    100% |████████████████████████████████| 133kB 27.5MB/s ta 0:00:01\n",
      "\u001b[?25hCollecting tensorboard<1.8.0,>=1.7.0 (from tensorflow==1.7.1->unityagents==0.4.0)\n",
      "\u001b[?25l  Downloading https://files.pythonhosted.org/packages/0b/ec/65d4e8410038ca2a78c09034094403d231228d0ddcae7d470b223456e55d/tensorboard-1.7.0-py3-none-any.whl (3.1MB)\n",
      "\u001b[K    100% |████████████████████████████████| 3.1MB 16.1MB/s ta 0:00:01\n",
      "\u001b[?25hRequirement already satisfied: six>=1.10.0 in /opt/conda/lib/python3.6/site-packages (from tensorflow==1.7.1->unityagents==0.4.0) (1.11.0)\n",
      "Collecting termcolor>=1.1.0 (from tensorflow==1.7.1->unityagents==0.4.0)\n",
      "  Downloading https://files.pythonhosted.org/packages/8a/48/a76be51647d0eb9f10e2a4511bf3ffb8cc1e6b14e9e4fab46173aa79f981/termcolor-1.1.0.tar.gz\n",
      "Requirement already satisfied: python-dateutil>=2.0 in /opt/conda/lib/python3.6/site-packages (from matplotlib->unityagents==0.4.0) (2.6.1)\n",
      "Requirement already satisfied: pytz in /opt/conda/lib/python3.6/site-packages (from matplotlib->unityagents==0.4.0) (2017.3)\n",
      "Requirement already satisfied: cycler>=0.10 in /opt/conda/lib/python3.6/site-packages/cycler-0.10.0-py3.6.egg (from matplotlib->unityagents==0.4.0) (0.10.0)\n",
      "Requirement already satisfied: pyparsing!=2.0.4,!=2.1.2,!=2.1.6,>=2.0.1 in /opt/conda/lib/python3.6/site-packages (from matplotlib->unityagents==0.4.0) (2.2.0)\n",
      "Collecting qtconsole (from jupyter->unityagents==0.4.0)\n",
      "\u001b[?25l  Downloading https://files.pythonhosted.org/packages/3a/57/c8fc1fc6fb6bc03caca20ace9cd0ac0e16cc052b51cbe3acbeeb53abcb18/qtconsole-5.1.1-py3-none-any.whl (119kB)\n",
      "\u001b[K    100% |████████████████████████████████| 122kB 25.0MB/s ta 0:00:01\n",
      "\u001b[?25hRequirement already satisfied: ipywidgets in /opt/conda/lib/python3.6/site-packages (from jupyter->unityagents==0.4.0) (7.0.5)\n",
      "Requirement already satisfied: notebook in /opt/conda/lib/python3.6/site-packages (from jupyter->unityagents==0.4.0) (5.7.0)\n",
      "Requirement already satisfied: nbconvert in /opt/conda/lib/python3.6/site-packages (from jupyter->unityagents==0.4.0) (5.4.0)\n",
      "Collecting jupyter-console (from jupyter->unityagents==0.4.0)\n",
      "  Downloading https://files.pythonhosted.org/packages/59/cd/aa2670ffc99eb3e5bbe2294c71e4bf46a9804af4f378d09d7a8950996c9b/jupyter_console-6.4.0-py3-none-any.whl\n",
      "Requirement already satisfied: setuptools in /opt/conda/lib/python3.6/site-packages (from pytest>=3.2.2->unityagents==0.4.0) (38.4.0)\n",
      "Requirement already satisfied: attrs>=17.4.0 in /opt/conda/lib/python3.6/site-packages (from pytest>=3.2.2->unityagents==0.4.0) (19.1.0)\n",
      "Requirement already satisfied: py>=1.5.0 in /opt/conda/lib/python3.6/site-packages (from pytest>=3.2.2->unityagents==0.4.0) (1.8.0)\n",
      "Requirement already satisfied: atomicwrites>=1.0 in /opt/conda/lib/python3.6/site-packages (from pytest>=3.2.2->unityagents==0.4.0) (1.3.0)\n",
      "Requirement already satisfied: pluggy!=0.10,<1.0,>=0.9 in /opt/conda/lib/python3.6/site-packages (from pytest>=3.2.2->unityagents==0.4.0) (0.11.0)\n",
      "Requirement already satisfied: more-itertools>=4.0.0; python_version > \"2.7\" in /opt/conda/lib/python3.6/site-packages (from pytest>=3.2.2->unityagents==0.4.0) (7.0.0)\n",
      "Requirement already satisfied: wcwidth in /opt/conda/lib/python3.6/site-packages (from pytest>=3.2.2->unityagents==0.4.0) (0.1.7)\n",
      "Requirement already satisfied: ipython>=4.0.0 in /opt/conda/lib/python3.6/site-packages (from ipykernel->unityagents==0.4.0) (6.5.0)\n",
      "Requirement already satisfied: traitlets>=4.1.0 in /opt/conda/lib/python3.6/site-packages (from ipykernel->unityagents==0.4.0) (4.3.2)\n",
      "Requirement already satisfied: jupyter_client in /opt/conda/lib/python3.6/site-packages (from ipykernel->unityagents==0.4.0) (5.2.4)\n",
      "Requirement already satisfied: tornado>=4.0 in /opt/conda/lib/python3.6/site-packages (from ipykernel->unityagents==0.4.0) (4.5.3)\n",
      "Requirement already satisfied: bleach==1.5.0 in /opt/conda/lib/python3.6/site-packages (from tensorboard<1.8.0,>=1.7.0->tensorflow==1.7.1->unityagents==0.4.0) (1.5.0)\n",
      "Requirement already satisfied: html5lib==0.9999999 in /opt/conda/lib/python3.6/site-packages (from tensorboard<1.8.0,>=1.7.0->tensorflow==1.7.1->unityagents==0.4.0) (0.9999999)\n",
      "Requirement already satisfied: werkzeug>=0.11.10 in /opt/conda/lib/python3.6/site-packages (from tensorboard<1.8.0,>=1.7.0->tensorflow==1.7.1->unityagents==0.4.0) (0.14.1)\n",
      "Requirement already satisfied: markdown>=2.6.8 in /opt/conda/lib/python3.6/site-packages (from tensorboard<1.8.0,>=1.7.0->tensorflow==1.7.1->unityagents==0.4.0) (2.6.9)\n",
      "Requirement already satisfied: ipython-genutils in /opt/conda/lib/python3.6/site-packages (from qtconsole->jupyter->unityagents==0.4.0) (0.2.0)\n",
      "Requirement already satisfied: jupyter-core in /opt/conda/lib/python3.6/site-packages (from qtconsole->jupyter->unityagents==0.4.0) (4.4.0)\n",
      "Requirement already satisfied: pyzmq>=17.1 in /opt/conda/lib/python3.6/site-packages (from qtconsole->jupyter->unityagents==0.4.0) (17.1.2)\n",
      "Requirement already satisfied: pygments in /opt/conda/lib/python3.6/site-packages (from qtconsole->jupyter->unityagents==0.4.0) (2.2.0)\n",
      "Collecting qtpy (from qtconsole->jupyter->unityagents==0.4.0)\n",
      "\u001b[?25l  Downloading https://files.pythonhosted.org/packages/27/54/459e3aa002eefff68c7d16babb3ab6bc1e4c2106e70654fbb5a8788d45be/QtPy-1.11.1-py2.py3-none-any.whl (58kB)\n",
      "\u001b[K    100% |████████████████████████████████| 61kB 13.0MB/s ta 0:00:01\n",
      "\u001b[?25hCollecting widgetsnbextension~=3.0.0 (from ipywidgets->jupyter->unityagents==0.4.0)\n",
      "\u001b[?25l  Downloading https://files.pythonhosted.org/packages/8d/f2/c8bcccccbed39d51d3e237fb0c0f0c9bbc845d12afc41f5ca5f5728fffc7/widgetsnbextension-3.0.8-py2.py3-none-any.whl (2.2MB)\n",
      "\u001b[K    100% |████████████████████████████████| 2.2MB 14.7MB/s ta 0:00:01\n",
      "\u001b[?25hRequirement already satisfied: nbformat>=4.2.0 in /opt/conda/lib/python3.6/site-packages (from ipywidgets->jupyter->unityagents==0.4.0) (4.4.0)\n",
      "Requirement already satisfied: jinja2 in /opt/conda/lib/python3.6/site-packages (from notebook->jupyter->unityagents==0.4.0) (2.10)\n",
      "Requirement already satisfied: Send2Trash in /opt/conda/lib/python3.6/site-packages (from notebook->jupyter->unityagents==0.4.0) (1.5.0)\n",
      "Requirement already satisfied: terminado>=0.8.1 in /opt/conda/lib/python3.6/site-packages (from notebook->jupyter->unityagents==0.4.0) (0.8.1)\n",
      "Requirement already satisfied: prometheus_client in /opt/conda/lib/python3.6/site-packages (from notebook->jupyter->unityagents==0.4.0) (0.3.1)\n",
      "Requirement already satisfied: mistune>=0.8.1 in /opt/conda/lib/python3.6/site-packages (from nbconvert->jupyter->unityagents==0.4.0) (0.8.3)\n",
      "Requirement already satisfied: entrypoints>=0.2.2 in /opt/conda/lib/python3.6/site-packages (from nbconvert->jupyter->unityagents==0.4.0) (0.2.3)\n",
      "Requirement already satisfied: pandocfilters>=1.4.1 in /opt/conda/lib/python3.6/site-packages (from nbconvert->jupyter->unityagents==0.4.0) (1.4.1)\n",
      "Requirement already satisfied: testpath in /opt/conda/lib/python3.6/site-packages (from nbconvert->jupyter->unityagents==0.4.0) (0.3.1)\n",
      "Requirement already satisfied: defusedxml in /opt/conda/lib/python3.6/site-packages (from nbconvert->jupyter->unityagents==0.4.0) (0.5.0)\n",
      "Collecting prompt-toolkit!=3.0.0,!=3.0.1,<3.1.0,>=2.0.0 (from jupyter-console->jupyter->unityagents==0.4.0)\n",
      "\u001b[?25l  Downloading https://files.pythonhosted.org/packages/c6/37/ec72228971dbaf191243b8ee383c6a3834b5cde23daab066dfbfbbd5438b/prompt_toolkit-3.0.20-py3-none-any.whl (370kB)\n",
      "\u001b[K    100% |████████████████████████████████| 378kB 27.6MB/s ta 0:00:01\n",
      "\u001b[?25hRequirement already satisfied: pexpect; sys_platform != \"win32\" in /opt/conda/lib/python3.6/site-packages (from ipython>=4.0.0->ipykernel->unityagents==0.4.0) (4.3.1)\n",
      "Requirement already satisfied: pickleshare in /opt/conda/lib/python3.6/site-packages (from ipython>=4.0.0->ipykernel->unityagents==0.4.0) (0.7.4)\n",
      "Requirement already satisfied: decorator in /opt/conda/lib/python3.6/site-packages (from ipython>=4.0.0->ipykernel->unityagents==0.4.0) (4.0.11)\n",
      "Requirement already satisfied: backcall in /opt/conda/lib/python3.6/site-packages (from ipython>=4.0.0->ipykernel->unityagents==0.4.0) (0.1.0)\n",
      "Requirement already satisfied: simplegeneric>0.8 in /opt/conda/lib/python3.6/site-packages (from ipython>=4.0.0->ipykernel->unityagents==0.4.0) (0.8.1)\n",
      "Requirement already satisfied: jedi>=0.10 in /opt/conda/lib/python3.6/site-packages (from ipython>=4.0.0->ipykernel->unityagents==0.4.0) (0.10.2)\n",
      "Requirement already satisfied: jsonschema!=2.5.0,>=2.4 in /opt/conda/lib/python3.6/site-packages (from nbformat>=4.2.0->ipywidgets->jupyter->unityagents==0.4.0) (2.6.0)\n",
      "Requirement already satisfied: MarkupSafe>=0.23 in /opt/conda/lib/python3.6/site-packages (from jinja2->notebook->jupyter->unityagents==0.4.0) (1.0)\n",
      "Requirement already satisfied: ptyprocess>=0.5 in /opt/conda/lib/python3.6/site-packages (from pexpect; sys_platform != \"win32\"->ipython>=4.0.0->ipykernel->unityagents==0.4.0) (0.5.2)\n",
      "Building wheels for collected packages: unityagents, docopt, termcolor\n",
      "  Running setup.py bdist_wheel for unityagents ... \u001b[?25ldone\n",
      "\u001b[?25h  Stored in directory: /tmp/pip-ephem-wheel-cache-nau0aai9/wheels/97/7a/24/09937717b9737178ae827bcef33ba219b540efd55be210010c\n",
      "  Running setup.py bdist_wheel for docopt ... \u001b[?25ldone\n",
      "\u001b[?25h  Stored in directory: /root/.cache/pip/wheels/9b/04/dd/7daf4150b6d9b12949298737de9431a324d4b797ffd63f526e\n",
      "  Running setup.py bdist_wheel for termcolor ... \u001b[?25ldone\n",
      "\u001b[?25h  Stored in directory: /root/.cache/pip/wheels/7c/06/54/bc84598ba1daf8f970247f550b175aaaee85f68b4b0c5ab2c6\n",
      "Successfully built unityagents docopt termcolor\n",
      "\u001b[31mtensorflow 1.7.1 has requirement numpy>=1.13.3, but you'll have numpy 1.12.1 which is incompatible.\u001b[0m\n",
      "\u001b[31mipython 6.5.0 has requirement prompt-toolkit<2.0.0,>=1.0.15, but you'll have prompt-toolkit 3.0.20 which is incompatible.\u001b[0m\n",
      "Installing collected packages: gast, protobuf, astor, absl-py, tensorboard, grpcio, termcolor, tensorflow, qtpy, qtconsole, prompt-toolkit, jupyter-console, jupyter, docopt, unityagents, widgetsnbextension\n",
      "  Found existing installation: protobuf 3.5.1\n",
      "    Uninstalling protobuf-3.5.1:\n",
      "      Successfully uninstalled protobuf-3.5.1\n",
      "  Found existing installation: tensorflow 1.3.0\n",
      "    Uninstalling tensorflow-1.3.0:\n",
      "      Successfully uninstalled tensorflow-1.3.0\n",
      "  Found existing installation: prompt-toolkit 1.0.15\n",
      "    Uninstalling prompt-toolkit-1.0.15:\n",
      "      Successfully uninstalled prompt-toolkit-1.0.15\n",
      "  Found existing installation: widgetsnbextension 3.1.0\n",
      "    Uninstalling widgetsnbextension-3.1.0:\n",
      "      Successfully uninstalled widgetsnbextension-3.1.0\n",
      "Successfully installed absl-py-0.13.0 astor-0.8.1 docopt-0.6.2 gast-0.5.2 grpcio-1.11.0 jupyter-1.0.0 jupyter-console-6.4.0 prompt-toolkit-3.0.20 protobuf-3.5.2 qtconsole-5.1.1 qtpy-1.11.1 tensorboard-1.7.0 tensorflow-1.7.1 termcolor-1.1.0 unityagents-0.4.0 widgetsnbextension-3.0.8\n",
      "Collecting toml\n",
      "  Downloading https://files.pythonhosted.org/packages/44/6f/7120676b6d73228c96e17f1f794d8ab046fc910d781c8d151120c3f1569e/toml-0.10.2-py2.py3-none-any.whl\n",
      "Installing collected packages: toml\n",
      "Successfully installed toml-0.10.2\n",
      "Requirement already satisfied: requests in /opt/conda/lib/python3.6/site-packages (2.18.4)\n",
      "Requirement already satisfied: chardet<3.1.0,>=3.0.2 in /opt/conda/lib/python3.6/site-packages (from requests) (3.0.4)\n",
      "Requirement already satisfied: idna<2.7,>=2.5 in /opt/conda/lib/python3.6/site-packages (from requests) (2.6)\n",
      "Requirement already satisfied: urllib3<1.23,>=1.21.1 in /opt/conda/lib/python3.6/site-packages (from requests) (1.22)\n",
      "Requirement already satisfied: certifi>=2017.4.17 in /opt/conda/lib/python3.6/site-packages (from requests) (2019.11.28)\n"
     ]
    }
   ],
   "source": [
    "# Jedi Not Working\r\n",
    "#  %config Completer.use_jedi = False\r\n",
    "! pip install ./python\r\n",
    "! pip install toml\r\n",
    "! pip install requests\r\n",
    "! pip freeze > requirements.txt"
   ]
  },
  {
   "cell_type": "code",
   "execution_count": 2,
   "metadata": {},
   "outputs": [],
   "source": [
    "from unityagents import UnityEnvironment\r\n",
    "import numpy as np"
   ]
  },
  {
   "cell_type": "markdown",
   "metadata": {},
   "source": [
    "Next, we will start the environment!  **_Before running the code cell below_**, change the `file_name` parameter to match the location of the Unity environment that you downloaded.\r\n",
    "\r\n",
    "- **Mac**: `\"path/to/Reacher.app\"`\r\n",
    "- **Windows** (x86): `\"path/to/Reacher_Windows_x86/Reacher.exe\"`\r\n",
    "- **Windows** (x86_64): `\"path/to/Reacher_Windows_x86_64/Reacher.exe\"`\r\n",
    "- **Linux** (x86): `\"path/to/Reacher_Linux/Reacher.x86\"`\r\n",
    "- **Linux** (x86_64): `\"path/to/Reacher_Linux/Reacher.x86_64\"`\r\n",
    "- **Linux** (x86, headless): `\"path/to/Reacher_Linux_NoVis/Reacher.x86\"`\r\n",
    "- **Linux** (x86_64, headless): `\"path/to/Reacher_Linux_NoVis/Reacher.x86_64\"`\r\n",
    "\r\n",
    "For instance, if you are using a Mac, then you downloaded `Reacher.app`.  If this file is in the same folder as the notebook, then the line below should appear as follows:\r\n",
    "```\r\n",
    "env = UnityEnvironment(file_name=\"Reacher.app\")\r\n",
    "```\r\n",
    "\r\n",
    "*Author Note:* This project uses a custom environment manager that abstracts the UnityEnvironment such that an OpenAI Gym\r\n",
    "environment and a Unity instance will have the same commands as seen by the Agent and Trainer objects."
   ]
  },
  {
   "cell_type": "markdown",
   "metadata": {},
   "source": [
    "## DDPG"
   ]
  },
  {
   "cell_type": "markdown",
   "metadata": {
    "toc-hr-collapsed": true
   },
   "source": [
    "### Project Architecture"
   ]
  },
  {
   "cell_type": "markdown",
   "metadata": {},
   "source": [
    "The Architecture of this project was extended from the model architecture used \r\n",
    "in project 1. Primarily, I built an environment manager API such that the minor\r\n",
    "differences between OpenGym AI environments and Unity Environments can be\r\n",
    "abstracted from the Trainer and Agent models such that either environment can\r\n",
    "be used to train an agent with minimal to no change in code.\r\n",
    "\r\n",
    "This leads to the discussion of the three primary classes within this project.\r\n",
    "the `EnvironmentMgr`, the `Trainer`, and the `Agent` interfaces.\r\n",
    "\r\n",
    "1. `EnvironmentMgr` - Each `EnvironmentMgr` class contains common commands the\r\n",
    "   `Trainer` can interface with to command the environment to `start`, `step`,\r\n",
    "   `reset`, `get_evn`, and `close`.\r\n",
    "   \r\n",
    "2. `Trainer` - This class is intended to hold all of the properties for the\r\n",
    "   experiment and manipulate both the `Agent` and the `Environment`.\r\n",
    "   \r\n",
    "3. `Agent` - This is the class that holds the reinforcement learning agent and\r\n",
    "   maintains a similar structure to other implementations with minor edits for\r\n",
    "   function encapsulation.\r\n",
    "\r\n",
    "#### Agent Selection\r\n",
    "\r\n",
    "Due to the difficulty of the problem and the amount of implementations using\r\n",
    "Deep Deterministic Policy Gradient (DDPG), I chose to implement a similar\r\n",
    "version, in order to leverage and compare my code with the available \r\n",
    "resources - and solicit feedback for others to review my code.\r\n",
    "\r\n",
    "Using the DDPG implementation from the Bipedal and Pendulum models as starting\r\n",
    "points I implemented my version of the DDPG agent. I implemented the \r\n",
    "Ornstein-Uhlenbeck process to add noise to my model similar to the example, and\r\n",
    "following the advice of the prompt - I implemented methods to restrict learning\r\n",
    "for the target Actor and Critic models as well as implementing a way to \r\n",
    "randomly sample a subset of agents (if n>1) for learning.\r\n",
    "\r\n",
    "#### DDPG\r\n",
    "\r\n",
    "DDPG originally proposed in the \r\n",
    "[2016 Google Deepmind Paper](https://arxiv.org/pdf/1509.02971.pdf)\r\n",
    "proposes a DPG method applying Q-learning. The architecture consists of two \r\n",
    "deep networks, an Actor and a Critic. The Actor determines the action provided\r\n",
    "the environment state. The Critic rates the Actor's action as good or bad \r\n",
    "provided the state and the actor's action. Both the actor and critic maintain\r\n",
    "two networks each as a local and a target network. Where the best action is\r\n",
    "selected from the target action and the local network learns from the response.\r\n",
    "Over the course of training the target network will be updated using a \r\n",
    "`soft_update` algorithm where a parameter $\\tau$ dictates the percent weight of\r\n",
    "the local network to update to the target network.\r\n",
    "\r\n",
    "#### Neural Network Model Architecture\r\n",
    "\r\n",
    "After reviewing several times with fellow students and discussing with mentors\r\n",
    "within the forums. I've selected an `Actor` Model consisting of `3` fully \r\n",
    "connected layers with hidden layers of `256` and `128` units wide and input\r\n",
    "units equal to the state size and output units equal to the action size. For\r\n",
    "the `Critic` Model, I've constructed a `3` fully connected model again with\r\n",
    "hidden layers equal to `256` and `128` units wide, but following the \r\n",
    "recommendation of Agents of this structure to inject the states as inputs into\r\n",
    "the first layer and actions into the second. Finally, outputting a single node.\r\n",
    "\r\n",
    "Similar to the [Original DDPG paper](https://arxiv.org/pdf/1509.02971.pdf), \r\n",
    "similar deep architectures were constructed for the Actor and Critic. For \r\n",
    "activation functions, the `ReLU` function was used for the `Actor` to \r\n",
    "minimize complexity and the hyperbolic tangent function (`tanh`) was used as\r\n",
    "output for the `Actor`. The tanh function provides a continuous space \r\n",
    "between action bounds for the actor to select from. The `Critic` maintains a\r\n",
    "similar architecture to the architecture provided in the paper where the \r\n",
    "environment state is passed into a fully connected (FC) layer and the following\r\n",
    "hidden layer ingests the output of that FC layer plus the action of the Actor.\r\n",
    "The output of the Critic is simply a single node used to determine if the \r\n",
    "action was good or bad.\r\n",
    "\r\n",
    "Weights were initialized using uniform distribution from \r\n",
    "$\\mp\\frac{1}{\\sqrt{N_{input}}}$ for all of the nodes save for the final node\r\n",
    "where a uniform distribution between $\\mp3e-3$ was established."
   ]
  },
  {
   "cell_type": "markdown",
   "metadata": {},
   "source": [
    "### Hyperparameter Optimization\r\n",
    "\r\n",
    "This section investigates hyperparameters  the `Actor` and `Critic` models, the `Agent` and `Trainer` architectures.\r\n",
    "\r\n",
    "#### Learning Rates\r\n",
    "\r\n",
    "Conducting a grid search with learning rate for actor and critic I the \r\n",
    "following relations running 50 episode epochs:\r\n",
    "```\r\n",
    "Actor LR: 1.0e-04\tCritic LR: 1.0e-04\r\n",
    "Episode 50\tAverage Score: 0.87\r\n",
    "\r\n",
    "Actor LR: 1.0e-04\tCritic LR: 1.0e-03\r\n",
    "Episode 50\tAverage Score: 0.47\r\n",
    "\r\n",
    "Actor LR: 1.0e-04\tCritic LR: 2.0e-03\r\n",
    "Episode 50\tAverage Score: 0.36\r\n",
    "\r\n",
    "Actor LR: 1.0e-03\tCritic LR: 1.0e-04\r\n",
    "Episode 50\tAverage Score: 0.86\r\n",
    "\r\n",
    "Actor LR: 1.0e-03\tCritic LR: 1.0e-03\r\n",
    "Episode 50\tAverage Score: 0.86\r\n",
    "\r\n",
    "Actor LR: 1.0e-03\tCritic LR: 2.0e-03\r\n",
    "Episode 50\tAverage Score: 0.04\r\n",
    "\r\n",
    "Actor LR: 2.0e-03\tCritic LR: 1.0e-04\r\n",
    "Episode 50\tAverage Score: 0.85\r\n",
    "\r\n",
    "Actor LR: 2.0e-03\tCritic LR: 1.0e-03\r\n",
    "Episode 50\tAverage Score: 0.04\r\n",
    "\r\n",
    "Actor LR: 2.0e-03\tCritic LR: 2.0e-03\r\n",
    "Episode 50\tAverage Score: 0.65\r\n",
    "```\r\n",
    "\r\n",
    "There seems to be a few promising learning rates between the actor and critic\r\n",
    "I have found success with Actor / Critic LRs and have decided to keep the learning\r\n",
    "rates equal to `1e-4`.\r\n",
    "\r\n",
    "#### Learning Period (frequency of soft-update to target network)\r\n",
    "\r\n",
    "When investigating learning period for soft updating the following was \r\n",
    "observed:\r\n",
    "```\r\n",
    "Actor LR: 2.0e-03\tCritic LR: 1.0e-04\tL_Period: 1\r\n",
    "Episode 50\tAverage Score: 0.86\r\n",
    "\r\n",
    "Actor LR: 2.0e-03\tCritic LR: 1.0e-04\tL_Period: 5\r\n",
    "Episode 50\tAverage Score: 0.77\r\n",
    "\r\n",
    "Actor LR: 2.0e-03\tCritic LR: 1.0e-04\tL_Period: 10\r\n",
    "Episode 50\tAverage Score: 0.44\r\n",
    "\r\n",
    "Actor LR: 2.0e-03\tCritic LR: 1.0e-04\tL_Period: 15\r\n",
    "Episode 50\tAverage Score: 0.66\r\n",
    "\r\n",
    "Actor LR: 2.0e-03\tCritic LR: 1.0e-04\tL_Period: 20\r\n",
    "Episode 50\tAverage Score: 0.66\r\n",
    "```\r\n",
    "\r\n",
    "The fastest learning rate was inversely proportional to the period. Keeping\r\n",
    "in mind that I likely will need to maintain a period of `20` time steps taking\r\n",
    "into account previous advice from Udacity\r\n",
    "\r\n",
    "#### Buffer and Batch Sizing\r\n",
    "\r\n",
    "Buffer size appear to have significant impacts, especially with networks \r\n",
    "training for very long times. The below figure depicts the mean scores of\r\n",
    "the last 100 episodes of a Agent with:\r\n",
    "```Python\r\n",
    "BUFFER_SIZE =1e5\r\n",
    "ACTOR_LR    = 1e-4\r\n",
    "CRITIC_LR   = 1e-3\r\n",
    "LEARN_F     = 20\r\n",
    "```\r\n",
    "\r\n",
    "![Buffer Size Failure](ddpg-forgetting.png)\r\n",
    "\r\n",
    "I reviewed this with a mentor, Amita, and provided some literature capturing\r\n",
    "this event as [catastrophic inference](https://www.sciencedirect.com/science/article/abs/pii/S0079742108605368?via%3Dihub).\r\n",
    "Since then, I have increased my buffer size to `1e6`.\r\n",
    "\r\n",
    "I've reviewed several others student's projects and and found a wide range of batch sizing.\r\n",
    "I have noticed that larger batch sizes result in a hysteresis in learning for early time\r\n",
    "steps. As such, I determined to use a smaller batch size to reduce training times on the\r\n",
    "GPU resources available to us through Udacity's virtual environment.\r\n",
    "\r\n",
    "\r\n",
    "#### Noise\r\n",
    "\r\n",
    "The original paper and the Udacity advice mentions the advantage of injecting Gaussian or\r\n",
    "Ornstein–Uhlenbeck noise into the actions of the Actor in order to encourage the Agent to\r\n",
    "explore off-policy and generate a more stable network. However, I found in my initial\r\n",
    "experiments that the OU Noise was preventing my Agent to achieve a score of greater than \r\n",
    "~28. As such, I experimented with turning off the noise and was able to achieve the required\r\n",
    "agent score and have left the noise out of the final solution. However, the wisdom of\r\n",
    "including noise into an agent such as DDPG is sound and tuning the noise parameters may\r\n",
    "be a wiser course of action when applying a similar agent to more complex scenarios."
   ]
  },
  {
   "cell_type": "markdown",
   "metadata": {},
   "source": [
    "### Primary Import and Utility Functionality"
   ]
  },
  {
   "cell_type": "code",
   "execution_count": null,
   "metadata": {},
   "outputs": [],
   "source": [
    "# %config Completer.use_jedi = True\r\n",
    "!pip -q install toml\r\n",
    "!pip -q install ../python\r\n",
    "!pip -q install requests\r\n",
    "\r\n",
    "import numpy as np\r\n",
    "import random\r\n",
    "\r\n",
    "import torch\r\n",
    "import torch.nn as nn\r\n",
    "import torch.nn.functional as F\r\n",
    "\r\n",
    "import pandas as pd\r\n",
    "import seaborn as sns\r\n",
    "import matplotlib.pyplot as plt\r\n",
    "%matplotlib inline\r\n",
    "\r\n",
    "from reacher_agents.ddpg_agent import DDPGAgent\r\n",
    "from reacher_agents.trainers import MultiAgentTrainer, SingleAgentTrainer\r\n"
   ]
  },
  {
   "cell_type": "markdown",
   "metadata": {},
   "source": [
    "### Hyper Parameters\n",
    "\n",
    "Reviewing implementations from other students as well reviewing comments from\n",
    "the Mentor Advice board - I've constructed the following Hyper Parameters for\n",
    "the run for record."
   ]
  },
  {
   "cell_type": "code",
   "execution_count": 3,
   "metadata": {},
   "outputs": [],
   "source": [
    "%%writefile reacher_agents/config.py\r\n",
    "\r\n",
    "ENV_TYPE = 'unity'        # enum ('unity', 'gym') = choose which environment to run\r\n",
    "CLOUD = True              # True if running in Udacity venv\r\n",
    "BUFFER_SIZE = int(1e6)    # Replay buffer size\r\n",
    "BATCH_SIZE = 16           # minibatch size\r\n",
    "N_EPISODES = 1000         # max number of episodes to run\r\n",
    "MAX_T = 1000              # Max time steps within an episode\r\n",
    "N_WORKERS = 20            # number of workers to run in environment\r\n",
    "MAX_WORKERS = 10          # number of workers to learn from an episode, ignored if N_WORKERS < MAX_WORKERS\r\n",
    "LEARN_F = 20              # Learning Frequency within episodes\r\n",
    "GAMMA = 0.99              # discount factor\r\n",
    "TAU = 1e-3                # soft update target parameter\r\n",
    "LR_ACTOR = 1e-4           # learning rate for the actor\r\n",
    "LR_CRITIC = 1e-4          # learning rate for the critic\r\n",
    "WEIGHT_DECAY = 0.         #0.0001 - L2 weight decay parameter\r\n",
    "WINDOW_LEN = 100          # window length for averaging\r\n",
    "ACTOR_UNITS = (256, 128)  # Actor Hidden architecture s -> h1 -> ... -> hn -> a\r\n",
    "CRITIC_UNITS = (256, 128) # Critic s -> h1+a -> ... -> hn -> 1\r\n",
    "ADD_NOISE = False         # Add OU noise to the agent's action\r\n",
    "SAVE_ALL = True           # Save meta data from trainer as a pickle file`\r\n",
    "\r\n"
   ]
  },
  {
   "cell_type": "code",
   "execution_count": 14,
   "metadata": {},
   "outputs": [],
   "source": [
    "# %%writefile main.py  # uncomment to write to main.py\r\n",
    "\r\n",
    "import matplotlib.pyplot as plt\r\n",
    "import seaborn as sns\r\n",
    "\r\n",
    "from reacher_agents.gym_environments import GymContinuousEnvMgr\r\n",
    "from reacher_agents.unity_environments import UnityEnvMgr\r\n",
    "from reacher_agents.trainers import SingleAgentTrainer, MultiAgentTrainer\r\n",
    "from reacher_agents.config import *  # Unnecessary for notebook - but useful for main run\r\n",
    "from reacher_agents.ddpg_agent import DDPGAgent\r\n",
    "\r\n",
    "\r\n",
    "def main():\r\n",
    "    if ENV_TYPE.lower() == 'gym':\r\n",
    "        envh = GymContinuousEnvMgr('Pendulum-v0')\r\n",
    "        root_name = 'gym'\r\n",
    "        Trainer = SingleAgentTrainer\r\n",
    "        upper_bound = 2.0\r\n",
    "        solved = -250\r\n",
    "        env = envh.start()\r\n",
    "        state_size = envh.state_size\r\n",
    "        action_size = envh.action_size\r\n",
    "    else:\r\n",
    "        root_name = 'unity'\r\n",
    "        if N_WORKERS == 1:\r\n",
    "            file_name = 'envs/Reacher_Windows_x86_64-one-agent/Reacher.exe'\r\n",
    "        else:\r\n",
    "            file_name = 'envs/Reacher_Windows_x86_64-twenty-agents/Reacher.exe'\r\n",
    "        envh = UnityEnvMgr(file_name)\r\n",
    "        Trainer = MultiAgentTrainer\r\n",
    "        upper_bound = 1.0\r\n",
    "        solved = 30.0\r\n",
    "        state_size = 33\r\n",
    "        action_size = 4\r\n",
    "\r\n",
    "    if CLOUD:\r\n",
    "        if N_WORKERS==1:\r\n",
    "            file_name='/data/Reacher_One_Linux_NoVis/Reacher_One_Linux_NoVis.x86_64'\r\n",
    "        else:\r\n",
    "            file_name='/data/Reacher_Linux_NoVis/Reacher.x86_64'\r\n",
    "        envh = UnityEnvMgr(file_name)\r\n",
    "\r\n",
    "    device = torch.device(\"cuda:0\" if torch.cuda.is_available() else \"cpu\")\r\n",
    "    # device = torch.device(\"cpu\")\r\n",
    "    agent = DDPGAgent(\r\n",
    "        state_size=state_size,\r\n",
    "        action_size=action_size,\r\n",
    "        buffer_size=BUFFER_SIZE,\r\n",
    "        batch_size=BATCH_SIZE,\r\n",
    "        gamma=GAMMA,\r\n",
    "        tau=TAU,\r\n",
    "        lr_actor=LR_ACTOR,\r\n",
    "        lr_critic=LR_CRITIC,\r\n",
    "        learn_f=LEARN_F,\r\n",
    "        weight_decay=WEIGHT_DECAY,\r\n",
    "        device=device,\r\n",
    "        random_seed=42,\r\n",
    "        upper_bound=upper_bound,\r\n",
    "        actor_hidden=ACTOR_HIDDEN,\r\n",
    "        critic_hidden=CRITIC_HIDDEN,\r\n",
    "        add_noise=ADD_NOISE\r\n",
    "    )\r\n",
    "    trainer = Trainer(\r\n",
    "        agent=agent,\r\n",
    "        env=envh,\r\n",
    "        n_episodes=N_EPISODES,\r\n",
    "        max_t=MAX_T,\r\n",
    "        window_len=WINDOW_LEN,\r\n",
    "        solved=solved,\r\n",
    "        n_workers=N_WORKERS,\r\n",
    "        max_workers=MAX_WORKERS,  # note can be lower than n\r\n",
    "        save_root=root_name,\r\n",
    "    )\r\n",
    "    return envh, agent, trainer\r\n",
    "\r\n",
    "def plot_scores(scores, i_map=0):\r\n",
    "    sns.set_style('darkgrid')\r\n",
    "    sns.set_context('talk')\r\n",
    "    sns.set_palette('Paired')\r\n",
    "    cmap = sns.color_palette('Paired')\r\n",
    "\r\n",
    "    scores = np.array(scores).squeeze()\r\n",
    "    score_df = pd.DataFrame({'scores': scores})\r\n",
    "    score_df = score_df.assign(mean=lambda df: df.rolling(10).mean()['scores'])\r\n",
    "\r\n",
    "    fig ,ax = plt.subplots(1,1, figsize=(10,8))\r\n",
    "\r\n",
    "    ax = score_df.plot(ax=ax, color=cmap[2*(i_map%4):])\r\n",
    "    ax.set_title(f'DDPG Scores vs Time (LR=({LR_ACTOR:.1e}, {LR_CRITIC:.1e}), Lf={LEARN_F})')\r\n",
    "    ax.set_xlabel('Episode #')\r\n",
    "    ax.set_ylabel('Score')\r\n",
    "    plt.show()\r\n",
    "\r\n",
    "\r\n",
    "# # Uncomment this when exporting if you would like to run from the terminal\r\n",
    "# if __name__ == '__main__':\r\n",
    "#     _, _, trainer = main()\r\n",
    "#     scores = trainer.train(save_all=True, is_cloud=CLOUD)\r\n",
    "#     plot_scores(scores)"
   ]
  },
  {
   "cell_type": "markdown",
   "metadata": {},
   "source": [
    "### Run"
   ]
  },
  {
   "cell_type": "code",
   "execution_count": 5,
   "metadata": {},
   "outputs": [
    {
     "name": "stderr",
     "output_type": "stream",
     "text": [
      "INFO:unityagents:\n",
      "'Academy' started successfully!\n",
      "Unity Academy name: Academy\n",
      "        Number of Brains: 1\n",
      "        Number of External Brains : 1\n",
      "        Lesson number : 0\n",
      "        Reset Parameters :\n",
      "\t\tgoal_speed -> 1.0\n",
      "\t\tgoal_size -> 5.0\n",
      "Unity brain name: ReacherBrain\n",
      "        Number of Visual Observations (per agent): 0\n",
      "        Vector Observation space type: continuous\n",
      "        Vector Observation space size (per agent): 33\n",
      "        Number of stacked Vector Observation: 1\n",
      "        Vector Action space type: continuous\n",
      "        Vector Action space size (per agent): 4\n",
      "        Vector Action descriptions: , , , \n"
     ]
    }
   ],
   "source": [
    "envh, agent, trainer = main()"
   ]
  },
  {
   "cell_type": "code",
   "execution_count": 6,
   "metadata": {},
   "outputs": [
    {
     "data": {
      "text/plain": [
       "device(type='cuda', index=0)"
      ]
     },
     "execution_count": 6,
     "metadata": {},
     "output_type": "execute_result"
    }
   ],
   "source": [
    "trainer.agent.device"
   ]
  },
  {
   "cell_type": "code",
   "execution_count": 7,
   "metadata": {},
   "outputs": [
    {
     "data": {
      "text/plain": [
       "DDPGActor(\n",
       "  (fc1): Linear(in_features=33, out_features=256, bias=True)\n",
       "  (fc2): Linear(in_features=256, out_features=128, bias=True)\n",
       "  (fc3): Linear(in_features=128, out_features=4, bias=True)\n",
       ")"
      ]
     },
     "execution_count": 7,
     "metadata": {},
     "output_type": "execute_result"
    }
   ],
   "source": [
    "agent.actor_local"
   ]
  },
  {
   "cell_type": "code",
   "execution_count": 8,
   "metadata": {},
   "outputs": [
    {
     "data": {
      "text/plain": [
       "DDPGCritic(\n",
       "  (fc1): Linear(in_features=33, out_features=256, bias=True)\n",
       "  (fc2): Linear(in_features=260, out_features=128, bias=True)\n",
       "  (fc3): Linear(in_features=128, out_features=1, bias=True)\n",
       ")"
      ]
     },
     "execution_count": 8,
     "metadata": {},
     "output_type": "execute_result"
    }
   ],
   "source": [
    "agent.critic_local"
   ]
  },
  {
   "cell_type": "code",
   "execution_count": 9,
   "metadata": {},
   "outputs": [
    {
     "name": "stdout",
     "output_type": "stream",
     "text": [
      "Episode 10\tAverage Score (episode): 1.00 \tMax Score (episode): 2.54 \tAverage Score (deque): 0.83\n",
      "Episode 20\tAverage Score (episode): 3.23 \tMax Score (episode): 7.52 \tAverage Score (deque): 1.55\n",
      "Episode 30\tAverage Score (episode): 6.20 \tMax Score (episode): 9.50 \tAverage Score (deque): 2.639\n",
      "Episode 40\tAverage Score (episode): 10.60 \tMax Score (episode): 23.24 \tAverage Score (deque): 4.02\n",
      "Episode 50\tAverage Score (episode): 24.35 \tMax Score (episode): 30.19 \tAverage Score (deque): 6.67\n",
      "Episode 60\tAverage Score (episode): 31.05 \tMax Score (episode): 38.82 \tAverage Score (deque): 10.31\n",
      "Episode 70\tAverage Score (episode): 39.13 \tMax Score (episode): 39.62 \tAverage Score (deque): 14.09\n",
      "Episode 80\tAverage Score (episode): 38.99 \tMax Score (episode): 39.65 \tAverage Score (deque): 17.19\n",
      "Episode 90\tAverage Score (episode): 39.29 \tMax Score (episode): 39.61 \tAverage Score (deque): 19.63\n",
      "Episode 100\tAverage Score (episode): 38.02 \tMax Score (episode): 39.56 \tAverage Score (deque): 21.51\n",
      "Episode 110\tAverage Score (episode): 38.42 \tMax Score (episode): 39.47 \tAverage Score (deque): 25.26\n",
      "Episode 120\tAverage Score (episode): 38.92 \tMax Score (episode): 39.62 \tAverage Score (deque): 28.93\n",
      "Episode 124\tAverage Score (episode): 38.09 \tMax Score (episode): 39.49 \tAverage Score (deque): 30.32\n",
      "Environment solved in 124 episodes!\tAverage Score: 30.32\n"
     ]
    }
   ],
   "source": [
    "scores = trainer.train(save_all=True, is_cloud=CLOUD)"
   ]
  },
  {
   "cell_type": "markdown",
   "metadata": {},
   "source": [
    "### Visualize"
   ]
  },
  {
   "cell_type": "markdown",
   "metadata": {},
   "source": [
    "Visualize the scores of the trained agent. \n",
    "\n",
    "* The `i_map` parameter to rotate through the seaborn color palette (paired in \n",
    "  groups of 2)\n",
    "  * 0: blue\n",
    "  * 1: green\n",
    "  * 2: red\n",
    "  * 3: orange\n",
    "  * 4: purple\n"
   ]
  },
  {
   "cell_type": "code",
   "execution_count": 15,
   "metadata": {},
   "outputs": [
    {
     "data": {
      "image/png": "[encoded data removed]",
      "text/plain": [
       "<matplotlib.figure.Figure at 0x7f341a99d630>"
      ]
     },
     "metadata": {},
     "output_type": "display_data"
    }
   ],
   "source": [
    "plot_scores(scores)"
   ]
  },
  {
   "cell_type": "code",
   "execution_count": 16,
   "metadata": {},
   "outputs": [],
   "source": [
    "trainer.save_scores('unity-solved-scores.pkl')"
   ]
  },
  {
   "cell_type": "markdown",
   "metadata": {},
   "source": []
  },
  {
   "cell_type": "markdown",
   "metadata": {},
   "source": [
    "## Results\r\n",
    "\r\n",
    "Using the tuned hyper parameters the DDPG implementation was able achieve a score of `>30.0`\r\n",
    "in `124` episodes with `20` agents."
   ]
  },
  {
   "cell_type": "markdown",
   "metadata": {},
   "source": [
    "## Future Work"
   ]
  },
  {
   "cell_type": "markdown",
   "metadata": {},
   "source": [
    "The final agent does not inject noise into the system which may leave the agent\r\n",
    "unstable. Tuning the noise hyper parameters to allow for this feature would be\r\n",
    "a sound next step. Additionally, applying different Agents such as alternate \r\n",
    "Actor/Critic models such as Twin Delayed DDPG (TD3) may show improved performance \r\n",
    "over the applied DDPG application. DDPG is an off-policy method and as such, does \r\n",
    "not explore actions with a policy that is learning. Another avenue to explore would\r\n",
    "be to investigate an on-policy methods such as Asynchronous Actor Critic (A3C)\r\n",
    "to evaluate performance directly."
   ]
  }
 ],
 "metadata": {
  "interpreter": {
   "hash": "15e440525741b4b683536cf3da481e83dd46ee608086a17f4cdb272058241969"
  },
  "kernelspec": {
   "display_name": "Python 3",
   "language": "python",
   "name": "python3"
  },
  "language_info": {
   "codemirror_mode": {
    "name": "ipython",
    "version": 3
   },
   "file_extension": ".py",
   "mimetype": "text/x-python",
   "name": "python",
   "nbconvert_exporter": "python",
   "pygments_lexer": "ipython3",
   "version": "3.8.5"
  }
 },
 "nbformat": 4,
 "nbformat_minor": 4
}
